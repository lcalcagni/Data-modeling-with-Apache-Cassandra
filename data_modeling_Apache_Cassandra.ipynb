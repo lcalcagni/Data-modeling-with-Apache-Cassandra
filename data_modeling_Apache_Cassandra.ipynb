{
 "cells": [
  {
   "cell_type": "markdown",
   "metadata": {},
   "source": [
    "# Part I. ETL Pipeline for Pre-Processing the Files"
   ]
  },
  {
   "cell_type": "markdown",
   "metadata": {},
   "source": [
    "## PLEASE RUN THE FOLLOWING CODE FOR PRE-PROCESSING THE FILES"
   ]
  },
  {
   "cell_type": "markdown",
   "metadata": {},
   "source": [
    "#### Import Python packages "
   ]
  },
  {
   "cell_type": "code",
   "execution_count": 82,
   "metadata": {},
   "outputs": [],
   "source": [
    "# Import Python packages \n",
    "import pandas as pd\n",
    "import cassandra\n",
    "import re\n",
    "import os\n",
    "import glob\n",
    "import numpy as np\n",
    "import json\n",
    "import csv"
   ]
  },
  {
   "cell_type": "markdown",
   "metadata": {},
   "source": [
    "#### Creating list of filepaths to process original event csv data files"
   ]
  },
  {
   "cell_type": "code",
   "execution_count": 83,
   "metadata": {},
   "outputs": [
    {
     "name": "stdout",
     "output_type": "stream",
     "text": [
      "/Users/lauracalcagni/Documents/GitHub/Data-modeling-with-Apache-Cassandra\n",
      "['/Users/lauracalcagni/Documents/GitHub/Data-modeling-with-Apache-Cassandra/event_data/2018-11-15-events.csv', '/Users/lauracalcagni/Documents/GitHub/Data-modeling-with-Apache-Cassandra/event_data/2018-11-22-events.csv', '/Users/lauracalcagni/Documents/GitHub/Data-modeling-with-Apache-Cassandra/event_data/2018-11-09-events.csv', '/Users/lauracalcagni/Documents/GitHub/Data-modeling-with-Apache-Cassandra/event_data/2018-11-18-events.csv', '/Users/lauracalcagni/Documents/GitHub/Data-modeling-with-Apache-Cassandra/event_data/2018-11-04-events.csv', '/Users/lauracalcagni/Documents/GitHub/Data-modeling-with-Apache-Cassandra/event_data/2018-11-01-events.csv', '/Users/lauracalcagni/Documents/GitHub/Data-modeling-with-Apache-Cassandra/event_data/2018-11-27-events.csv', '/Users/lauracalcagni/Documents/GitHub/Data-modeling-with-Apache-Cassandra/event_data/2018-11-10-events.csv', '/Users/lauracalcagni/Documents/GitHub/Data-modeling-with-Apache-Cassandra/event_data/2018-11-20-events.csv', '/Users/lauracalcagni/Documents/GitHub/Data-modeling-with-Apache-Cassandra/event_data/2018-11-17-events.csv', '/Users/lauracalcagni/Documents/GitHub/Data-modeling-with-Apache-Cassandra/event_data/2018-11-06-events.csv', '/Users/lauracalcagni/Documents/GitHub/Data-modeling-with-Apache-Cassandra/event_data/2018-11-03-events.csv', '/Users/lauracalcagni/Documents/GitHub/Data-modeling-with-Apache-Cassandra/event_data/2018-11-28-events.csv', '/Users/lauracalcagni/Documents/GitHub/Data-modeling-with-Apache-Cassandra/event_data/2018-11-12-events.csv', '/Users/lauracalcagni/Documents/GitHub/Data-modeling-with-Apache-Cassandra/event_data/2018-11-25-events.csv', '/Users/lauracalcagni/Documents/GitHub/Data-modeling-with-Apache-Cassandra/event_data/2018-11-26-events.csv', '/Users/lauracalcagni/Documents/GitHub/Data-modeling-with-Apache-Cassandra/event_data/2018-11-11-events.csv', '/Users/lauracalcagni/Documents/GitHub/Data-modeling-with-Apache-Cassandra/event_data/2018-11-14-events.csv', '/Users/lauracalcagni/Documents/GitHub/Data-modeling-with-Apache-Cassandra/event_data/2018-11-23-events.csv', '/Users/lauracalcagni/Documents/GitHub/Data-modeling-with-Apache-Cassandra/event_data/2018-11-08-events.csv', '/Users/lauracalcagni/Documents/GitHub/Data-modeling-with-Apache-Cassandra/event_data/2018-11-19-events.csv', '/Users/lauracalcagni/Documents/GitHub/Data-modeling-with-Apache-Cassandra/event_data/2018-11-05-events.csv', '/Users/lauracalcagni/Documents/GitHub/Data-modeling-with-Apache-Cassandra/event_data/2018-11-02-events.csv', '/Users/lauracalcagni/Documents/GitHub/Data-modeling-with-Apache-Cassandra/event_data/2018-11-29-events.csv', '/Users/lauracalcagni/Documents/GitHub/Data-modeling-with-Apache-Cassandra/event_data/2018-11-13-events.csv', '/Users/lauracalcagni/Documents/GitHub/Data-modeling-with-Apache-Cassandra/event_data/2018-11-24-events.csv', '/Users/lauracalcagni/Documents/GitHub/Data-modeling-with-Apache-Cassandra/event_data/2018-11-21-events.csv', '/Users/lauracalcagni/Documents/GitHub/Data-modeling-with-Apache-Cassandra/event_data/2018-11-16-events.csv', '/Users/lauracalcagni/Documents/GitHub/Data-modeling-with-Apache-Cassandra/event_data/2018-11-07-events.csv', '/Users/lauracalcagni/Documents/GitHub/Data-modeling-with-Apache-Cassandra/event_data/2018-11-30-events.csv']\n"
     ]
    }
   ],
   "source": [
    "# checking your current working directory\n",
    "print(os.getcwd())\n",
    "\n",
    "# Get your current folder and subfolder event data\n",
    "filepath = os.getcwd() + '/event_data'\n",
    "\n",
    "# Create a for loop to create a list of files and collect each filepath\n",
    "for root, dirs, files in os.walk(filepath):\n",
    "    \n",
    "# join the file path and roots with the subdirectories using glob\n",
    "    file_path_list = glob.glob(os.path.join(root,'*'))\n",
    "    print(file_path_list)"
   ]
  },
  {
   "cell_type": "markdown",
   "metadata": {},
   "source": [
    "#### Processing the files to create the data file csv that will be used for Apache Casssandra tables"
   ]
  },
  {
   "cell_type": "code",
   "execution_count": 84,
   "metadata": {},
   "outputs": [],
   "source": [
    "# initiating an empty list of rows that will be generated from each file\n",
    "full_data_rows_list = [] \n",
    "    \n",
    "# for every filepath in the file path list \n",
    "for f in file_path_list:\n",
    "\n",
    "# reading csv file \n",
    "    with open(f, 'r', encoding = 'utf8', newline='') as csvfile: \n",
    "        # creating a csv reader object \n",
    "        csvreader = csv.reader(csvfile) \n",
    "        next(csvreader)\n",
    "        \n",
    " # extracting each data row one by one and append it        \n",
    "        for line in csvreader:\n",
    "            #print(line)\n",
    "            full_data_rows_list.append(line) \n",
    "            \n",
    "# uncomment the code below if you would like to get total number of rows \n",
    "#print(len(full_data_rows_list))\n",
    "# uncomment the code below if you would like to check to see what the list of event data rows will look like\n",
    "#print(full_data_rows_list)\n",
    "\n",
    "# creating a smaller event data csv file called event_datafile_full csv that will be used to insert data into the \\\n",
    "# Apache Cassandra tables\n",
    "csv.register_dialect('myDialect', quoting=csv.QUOTE_ALL, skipinitialspace=True)\n",
    "\n",
    "with open('event_datafile_new.csv', 'w', encoding = 'utf8', newline='') as f:\n",
    "    writer = csv.writer(f, dialect='myDialect')\n",
    "    writer.writerow(['artist','firstName','gender','itemInSession','lastName','length',\\\n",
    "                'level','location','sessionId','song','userId'])\n",
    "    for row in full_data_rows_list:\n",
    "        if (row[0] == ''):\n",
    "            continue\n",
    "        writer.writerow((row[0], row[2], row[3], row[4], row[5], row[6], row[7], row[8], row[12], row[13], row[16]))\n"
   ]
  },
  {
   "cell_type": "code",
   "execution_count": 85,
   "metadata": {},
   "outputs": [
    {
     "name": "stdout",
     "output_type": "stream",
     "text": [
      "6821\n"
     ]
    }
   ],
   "source": [
    "# check the number of rows in your csv file\n",
    "with open('event_datafile_new.csv', 'r', encoding = 'utf8') as f:\n",
    "    print(sum(1 for line in f))"
   ]
  },
  {
   "cell_type": "markdown",
   "metadata": {},
   "source": [
    "# Part II. Complete the Apache Cassandra coding portion of your project. \n",
    "\n",
    "## Now you are ready to work with the CSV file titled <font color=red>event_datafile_new.csv</font>, located within the Workspace directory.  The event_datafile_new.csv contains the following columns: \n",
    "- artist \n",
    "- firstName of user\n",
    "- gender of user\n",
    "- item number in session\n",
    "- last name of user\n",
    "- length of the song\n",
    "- level (paid or free song)\n",
    "- location of the user\n",
    "- sessionId\n",
    "- song title\n",
    "- userId\n",
    "\n",
    "The image below is a screenshot of what the denormalized data should appear like in the <font color=red>**event_datafile_new.csv**</font> after the code above is run:<br>\n",
    "\n",
    "<img src=\"images/image_event_datafile_new.jpg\">"
   ]
  },
  {
   "cell_type": "markdown",
   "metadata": {},
   "source": [
    "## Begin writing your Apache Cassandra code in the cells below"
   ]
  },
  {
   "cell_type": "markdown",
   "metadata": {},
   "source": [
    "#### Creating a Cluster"
   ]
  },
  {
   "cell_type": "code",
   "execution_count": 86,
   "metadata": {},
   "outputs": [],
   "source": [
    "# This should make a connection to a Cassandra instance your local machine \n",
    "# (127.0.0.1)\n",
    "\n",
    "from cassandra.cluster import Cluster\n",
    "cluster = Cluster()\n",
    "\n",
    "# To establish connection and begin executing queries, need a session\n",
    "session = cluster.connect()"
   ]
  },
  {
   "cell_type": "markdown",
   "metadata": {},
   "source": [
    "#### Create Keyspace"
   ]
  },
  {
   "cell_type": "code",
   "execution_count": 87,
   "metadata": {},
   "outputs": [],
   "source": [
    "# Create a Keyspace \n",
    "try:\n",
    "    session.execute(\"\"\"\n",
    "    CREATE KEYSPACE IF NOT EXISTS sparkify\n",
    "    WITH REPLICATION = \n",
    "    { 'class' : 'SimpleStrategy', 'replication_factor' : 1 }\"\"\"\n",
    ")\n",
    "\n",
    "except Exception as e:\n",
    "    print(e)"
   ]
  },
  {
   "cell_type": "markdown",
   "metadata": {},
   "source": [
    "#### Set Keyspace"
   ]
  },
  {
   "cell_type": "code",
   "execution_count": 88,
   "metadata": {},
   "outputs": [],
   "source": [
    "# Set KEYSPACE to the keyspace specified above\n",
    "\n",
    "try:\n",
    "    session.set_keyspace('sparkify')\n",
    "except Exception as e:\n",
    "    print(e)\n"
   ]
  },
  {
   "cell_type": "markdown",
   "metadata": {},
   "source": [
    "### Now we need to create tables to run the following queries. Remember, with Apache Cassandra you model the database tables on the queries you want to run."
   ]
  },
  {
   "cell_type": "markdown",
   "metadata": {},
   "source": [
    "## Create queries to ask the following three questions of the data\n",
    "\n",
    "### 1. Give me the artist, song title and song's length in the music app history that was heard during  sessionId = 338, and itemInSession  = 4\n",
    "\n",
    "\n",
    "### 2. Give me only the following: name of artist, song (sorted by itemInSession) and user (first and last name) for userid = 10, sessionid = 182\n",
    "    \n",
    "\n",
    "### 3. Give me every user name (first and last) in my music app history who listened to the song 'All Hands Against His Own'\n",
    "\n",
    "\n"
   ]
  },
  {
   "cell_type": "code",
   "execution_count": 95,
   "metadata": {},
   "outputs": [],
   "source": [
    "## Query 1:  Give me the artist, song title and song's length in the music app history that was heard during \\\n",
    "## sessionId = 338, and itemInSession = 4\n"
   ]
  },
  {
   "cell_type": "code",
   "execution_count": 89,
   "metadata": {},
   "outputs": [],
   "source": [
    "query = \"\"\"CREATE TABLE IF NOT EXISTS song_by_session_item (\n",
    "    sessionId int,\n",
    "    itemInSession int,\n",
    "    song text,\n",
    "    length float,\n",
    "    artist text,\n",
    "    PRIMARY KEY (sessionId, itemInSession)\n",
    ")\"\"\"\n",
    "\n",
    "try:\n",
    "    session.execute(query)\n",
    "except Exception as e:\n",
    "    print(e)"
   ]
  },
  {
   "cell_type": "code",
   "execution_count": 90,
   "metadata": {},
   "outputs": [],
   "source": [
    "# Populates the table with data from the CSV file\n",
    "file = 'event_datafile_new.csv'\n",
    "\n",
    "with open(file, encoding = 'utf8') as f:\n",
    "    csvreader = csv.reader(f)\n",
    "    next(csvreader) # skip header\n",
    "    for line in csvreader:\n",
    "        query = \"\"\"\n",
    "        INSERT INTO song_by_session_item (sessionId, itemInSession, song, length, artist)\n",
    "        VALUES (%s, %s, %s, %s, %s)\n",
    "        \"\"\"\n",
    "        \n",
    "        sessionId = int(line[8])\n",
    "        itemInSession = int(line[3])\n",
    "        song = line[9]\n",
    "        length = float(line[5])\n",
    "        artist = line[0]\n",
    "\n",
    "        session.execute(query, (sessionId, itemInSession, song, length, artist))"
   ]
  },
  {
   "cell_type": "code",
   "execution_count": 91,
   "metadata": {},
   "outputs": [
    {
     "name": "stdout",
     "output_type": "stream",
     "text": [
      "Row(artist='Faithless', song='Music Matters (Mark Knight Dub)', length=495.30731201171875)\n"
     ]
    }
   ],
   "source": [
    "query = \"SELECT artist, song, length FROM song_by_session_item WHERE sessionId=338 and itemInSession=4\"\n",
    "try:\n",
    "    rows = session.execute(query)\n",
    "except Exception as e:\n",
    "    print(e)\n",
    "\n",
    "for row in rows:\n",
    "    print(row)"
   ]
  },
  {
   "cell_type": "code",
   "execution_count": 94,
   "metadata": {},
   "outputs": [],
   "source": [
    "## Query 2: Give me only the following: name of artist, song (sorted by itemInSession) and user (first and last name)\\\n",
    "## for userid = 10, sessionid = 182"
   ]
  },
  {
   "cell_type": "code",
   "execution_count": 99,
   "metadata": {},
   "outputs": [],
   "source": [
    "query = \"\"\"\n",
    "    CREATE TABLE IF NOT EXISTS song_by_user_session (\n",
    "        userId int,\n",
    "        firstName text,\n",
    "        lastName text,\n",
    "        sessionId int,\n",
    "        itemInSession int,\n",
    "        song text,\n",
    "        artist text,\n",
    "        PRIMARY KEY ((userId, sessionId), itemInSession))\n",
    "    WITH CLUSTERING ORDER BY (itemInSession ASC)\n",
    "    \"\"\"\n",
    "\n",
    "try:\n",
    "    session.execute(query)\n",
    "except Exception as e:\n",
    "    print(e)\n",
    "\n"
   ]
  },
  {
   "cell_type": "code",
   "execution_count": 93,
   "metadata": {},
   "outputs": [
    {
     "ename": "InvalidRequest",
     "evalue": "Error from server: code=2200 [Invalid query] message=\"table song_by_user_session does not exist\"",
     "output_type": "error",
     "traceback": [
      "\u001b[0;31m---------------------------------------------------------------------------\u001b[0m",
      "\u001b[0;31mInvalidRequest\u001b[0m                            Traceback (most recent call last)",
      "Cell \u001b[0;32mIn[93], line 21\u001b[0m\n\u001b[1;32m     18\u001b[0m song \u001b[38;5;241m=\u001b[39m line[\u001b[38;5;241m9\u001b[39m]\n\u001b[1;32m     19\u001b[0m artist \u001b[38;5;241m=\u001b[39m line[\u001b[38;5;241m0\u001b[39m]\n\u001b[0;32m---> 21\u001b[0m \u001b[43msession\u001b[49m\u001b[38;5;241;43m.\u001b[39;49m\u001b[43mexecute\u001b[49m\u001b[43m(\u001b[49m\u001b[43mquery\u001b[49m\u001b[43m,\u001b[49m\u001b[43m \u001b[49m\u001b[43m(\u001b[49m\u001b[43muserId\u001b[49m\u001b[43m,\u001b[49m\u001b[43m \u001b[49m\u001b[43mfirstName\u001b[49m\u001b[43m,\u001b[49m\u001b[43m \u001b[49m\u001b[43mlastName\u001b[49m\u001b[43m,\u001b[49m\u001b[43m \u001b[49m\u001b[43msessionId\u001b[49m\u001b[43m,\u001b[49m\u001b[43m \u001b[49m\u001b[43mitemInSession\u001b[49m\u001b[43m,\u001b[49m\u001b[43m \u001b[49m\u001b[43msong\u001b[49m\u001b[43m,\u001b[49m\u001b[43m \u001b[49m\u001b[43martist\u001b[49m\u001b[43m)\u001b[49m\u001b[43m)\u001b[49m\n",
      "File \u001b[0;32m~/Documents/GitHub/Data-modeling-with-Apache-Cassandra/.venv/lib/python3.11/site-packages/cassandra/cluster.py:2677\u001b[0m, in \u001b[0;36mSession.execute\u001b[0;34m(self, query, parameters, timeout, trace, custom_payload, execution_profile, paging_state, host, execute_as)\u001b[0m\n\u001b[1;32m   <a href='file:///Users/lauracalcagni/Documents/GitHub/Data-modeling-with-Apache-Cassandra/.venv/lib/python3.11/site-packages/cassandra/cluster.py?line=2633'>2634</a>\u001b[0m \u001b[39mdef\u001b[39;00m \u001b[39mexecute\u001b[39m(\u001b[39mself\u001b[39m, query, parameters\u001b[39m=\u001b[39m\u001b[39mNone\u001b[39;00m, timeout\u001b[39m=\u001b[39m_NOT_SET, trace\u001b[39m=\u001b[39m\u001b[39mFalse\u001b[39;00m,\n\u001b[1;32m   <a href='file:///Users/lauracalcagni/Documents/GitHub/Data-modeling-with-Apache-Cassandra/.venv/lib/python3.11/site-packages/cassandra/cluster.py?line=2634'>2635</a>\u001b[0m             custom_payload\u001b[39m=\u001b[39m\u001b[39mNone\u001b[39;00m, execution_profile\u001b[39m=\u001b[39mEXEC_PROFILE_DEFAULT,\n\u001b[1;32m   <a href='file:///Users/lauracalcagni/Documents/GitHub/Data-modeling-with-Apache-Cassandra/.venv/lib/python3.11/site-packages/cassandra/cluster.py?line=2635'>2636</a>\u001b[0m             paging_state\u001b[39m=\u001b[39m\u001b[39mNone\u001b[39;00m, host\u001b[39m=\u001b[39m\u001b[39mNone\u001b[39;00m, execute_as\u001b[39m=\u001b[39m\u001b[39mNone\u001b[39;00m):\n\u001b[1;32m   <a href='file:///Users/lauracalcagni/Documents/GitHub/Data-modeling-with-Apache-Cassandra/.venv/lib/python3.11/site-packages/cassandra/cluster.py?line=2636'>2637</a>\u001b[0m \u001b[39m    \u001b[39m\u001b[39m\"\"\"\u001b[39;00m\n\u001b[1;32m   <a href='file:///Users/lauracalcagni/Documents/GitHub/Data-modeling-with-Apache-Cassandra/.venv/lib/python3.11/site-packages/cassandra/cluster.py?line=2637'>2638</a>\u001b[0m \u001b[39m    Execute the given query and synchronously wait for the response.\u001b[39;00m\n\u001b[1;32m   <a href='file:///Users/lauracalcagni/Documents/GitHub/Data-modeling-with-Apache-Cassandra/.venv/lib/python3.11/site-packages/cassandra/cluster.py?line=2638'>2639</a>\u001b[0m \n\u001b[0;32m   (...)\u001b[0m\n\u001b[1;32m   <a href='file:///Users/lauracalcagni/Documents/GitHub/Data-modeling-with-Apache-Cassandra/.venv/lib/python3.11/site-packages/cassandra/cluster.py?line=2673'>2674</a>\u001b[0m \u001b[39m    on a DSE cluster.\u001b[39;00m\n\u001b[1;32m   <a href='file:///Users/lauracalcagni/Documents/GitHub/Data-modeling-with-Apache-Cassandra/.venv/lib/python3.11/site-packages/cassandra/cluster.py?line=2674'>2675</a>\u001b[0m \u001b[39m    \"\"\"\u001b[39;00m\n\u001b[0;32m-> <a href='file:///Users/lauracalcagni/Documents/GitHub/Data-modeling-with-Apache-Cassandra/.venv/lib/python3.11/site-packages/cassandra/cluster.py?line=2676'>2677</a>\u001b[0m     \u001b[39mreturn\u001b[39;00m \u001b[39mself\u001b[39;49m\u001b[39m.\u001b[39;49mexecute_async(query, parameters, trace, custom_payload, timeout, execution_profile, paging_state, host, execute_as)\u001b[39m.\u001b[39;49mresult()\n",
      "File \u001b[0;32m~/Documents/GitHub/Data-modeling-with-Apache-Cassandra/.venv/lib/python3.11/site-packages/cassandra/cluster.py:4956\u001b[0m, in \u001b[0;36mResponseFuture.result\u001b[0;34m(self)\u001b[0m\n\u001b[1;32m   <a href='file:///Users/lauracalcagni/Documents/GitHub/Data-modeling-with-Apache-Cassandra/.venv/lib/python3.11/site-packages/cassandra/cluster.py?line=4953'>4954</a>\u001b[0m     \u001b[39mreturn\u001b[39;00m ResultSet(\u001b[39mself\u001b[39m, \u001b[39mself\u001b[39m\u001b[39m.\u001b[39m_final_result)\n\u001b[1;32m   <a href='file:///Users/lauracalcagni/Documents/GitHub/Data-modeling-with-Apache-Cassandra/.venv/lib/python3.11/site-packages/cassandra/cluster.py?line=4954'>4955</a>\u001b[0m \u001b[39melse\u001b[39;00m:\n\u001b[0;32m-> <a href='file:///Users/lauracalcagni/Documents/GitHub/Data-modeling-with-Apache-Cassandra/.venv/lib/python3.11/site-packages/cassandra/cluster.py?line=4955'>4956</a>\u001b[0m     \u001b[39mraise\u001b[39;00m \u001b[39mself\u001b[39m\u001b[39m.\u001b[39m_final_exception\n",
      "\u001b[0;31mInvalidRequest\u001b[0m: Error from server: code=2200 [Invalid query] message=\"table song_by_user_session does not exist\""
     ]
    }
   ],
   "source": [
    "# Populates the table with data from the CSV file\n",
    "file = 'event_datafile_new.csv'\n",
    "\n",
    "with open(file, encoding = 'utf8') as f:\n",
    "    csvreader = csv.reader(f)\n",
    "    next(csvreader) # skip header\n",
    "    for line in csvreader:\n",
    "        query = \"\"\"\n",
    "        INSERT INTO song_by_user_session (userId, firstName, lastName, sessionId, itemInSession, song, artist)\n",
    "        VALUES (%s, %s, %s, %s, %s, %s, %s)\n",
    "        \"\"\"\n",
    "        \n",
    "        userId = int(line[10])\n",
    "        firstName = line[1]\n",
    "        lastName = line[4]\n",
    "        sessionId = int(line[8])\n",
    "        itemInSession = int(line[3])\n",
    "        song = line[9]\n",
    "        artist = line[0]\n",
    "\n",
    "        session.execute(query, (userId, firstName, lastName, sessionId, itemInSession, song, artist))"
   ]
  },
  {
   "cell_type": "code",
   "execution_count": null,
   "metadata": {},
   "outputs": [
    {
     "name": "stdout",
     "output_type": "stream",
     "text": [
      "Row(artist='Down To The Bone', song=\"Keep On Keepin' On\", firstname='Sylvie', lastname='Cruz')\n",
      "Row(artist='Three Drives', song='Greece 2000', firstname='Sylvie', lastname='Cruz')\n",
      "Row(artist='Sebastien Tellier', song='Kilometer', firstname='Sylvie', lastname='Cruz')\n",
      "Row(artist='Lonnie Gordon', song='Catch You Baby (Steve Pitron & Max Sanna Radio Edit)', firstname='Sylvie', lastname='Cruz')\n"
     ]
    }
   ],
   "source": [
    "query = \"SELECT artist, song, firstName, lastName FROM song_by_user_session WHERE sessionId=182 and userId=10\"\n",
    "try:\n",
    "    rows = session.execute(query)\n",
    "except Exception as e:\n",
    "    print(e)\n",
    "\n",
    "for row in rows:\n",
    "    print(row)"
   ]
  },
  {
   "cell_type": "markdown",
   "metadata": {},
   "source": [
    "## Query 3: Give me every user name (first and last) in my music app history who listened to the song 'All Hands Against His Own'\n"
   ]
  },
  {
   "cell_type": "code",
   "execution_count": null,
   "metadata": {},
   "outputs": [],
   "source": [
    "query = \"\"\"\n",
    "    CREATE TABLE IF NOT EXISTS users_by_song (\n",
    "        song text,\n",
    "        userId int,\n",
    "        firstName text,\n",
    "        lastName text,\n",
    "        PRIMARY KEY (song, userId)\n",
    "    )\"\"\"\n",
    "\n",
    "\n",
    "try:\n",
    "    session.execute(query)\n",
    "except Exception as e:\n",
    "    print(e)"
   ]
  },
  {
   "cell_type": "code",
   "execution_count": null,
   "metadata": {},
   "outputs": [],
   "source": [
    "# Populates the table with data from the CSV file\n",
    "file = 'event_datafile_new.csv'\n",
    "\n",
    "with open(file, encoding = 'utf8') as f:\n",
    "    csvreader = csv.reader(f)\n",
    "    next(csvreader) # skip header\n",
    "    for line in csvreader:\n",
    "        query = \"\"\"\n",
    "        INSERT INTO users_by_song (userId, firstName, lastName, song)\n",
    "        VALUES (%s, %s, %s, %s)\n",
    "        \"\"\"\n",
    "        \n",
    "        userId = int(line[10])\n",
    "        firstName = line[1]\n",
    "        lastName = line[4]\n",
    "        song = line[9]\n",
    "\n",
    "        session.execute(query, (userId, firstName, lastName, song))"
   ]
  },
  {
   "cell_type": "code",
   "execution_count": null,
   "metadata": {
    "scrolled": true
   },
   "outputs": [
    {
     "name": "stdout",
     "output_type": "stream",
     "text": [
      "Row(artist='Faithless', song='Music Matters (Mark Knight Dub)', length=495.30731201171875)\n"
     ]
    }
   ],
   "source": [
    "query = \"SELECT firstName, lastName FROM users_by_song WHERE song = 'All Hands Against His Own'\"\n",
    "try:\n",
    "    rows = session.execute(query)\n",
    "except Exception as e:\n",
    "    print(e)\n",
    "\n",
    "for row in rows:\n",
    "    print(row)"
   ]
  },
  {
   "cell_type": "markdown",
   "metadata": {},
   "source": [
    "### Drop the tables before closing out the sessions"
   ]
  },
  {
   "cell_type": "code",
   "execution_count": null,
   "metadata": {},
   "outputs": [
    {
     "data": {
      "text/plain": [
       "<cassandra.cluster.ResultSet at 0x108828150>"
      ]
     },
     "execution_count": 79,
     "metadata": {},
     "output_type": "execute_result"
    }
   ],
   "source": [
    "## Drop the table before closing out the sessions\n",
    "session.execute(\"DROP TABLE IF EXISTS sparkify.song_by_session_item\")\n",
    "session.execute(\"DROP TABLE IF EXISTS sparkify.song_by_user_session\")\n",
    "session.execute(\"DROP TABLE IF EXISTS sparkify.users_by_song\")"
   ]
  },
  {
   "cell_type": "markdown",
   "metadata": {},
   "source": [
    "### Close the session and cluster connection¶"
   ]
  },
  {
   "cell_type": "code",
   "execution_count": null,
   "metadata": {},
   "outputs": [],
   "source": [
    "session.shutdown()\n",
    "cluster.shutdown()"
   ]
  }
 ],
 "metadata": {
  "interpreter": {
   "hash": "38094bf22beb7c6b99b1838bc66e4bdd75ada76b9a6b6058e884134fabca53ed"
  },
  "kernelspec": {
   "display_name": "Python 3.11.7 ('.venv': venv)",
   "language": "python",
   "name": "python3"
  },
  "language_info": {
   "codemirror_mode": {
    "name": "ipython",
    "version": 3
   },
   "file_extension": ".py",
   "mimetype": "text/x-python",
   "name": "python",
   "nbconvert_exporter": "python",
   "pygments_lexer": "ipython3",
   "version": "3.11.7"
  }
 },
 "nbformat": 4,
 "nbformat_minor": 4
}
